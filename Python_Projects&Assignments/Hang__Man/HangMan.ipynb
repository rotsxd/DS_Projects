{
 "cells": [
  {
   "cell_type": "code",
   "execution_count": 2,
   "id": "bfb5b570",
   "metadata": {},
   "outputs": [
    {
     "ename": "ModuleNotFoundError",
     "evalue": "No module named 'words'",
     "output_type": "error",
     "traceback": [
      "\u001b[1;31m---------------------------------------------------------------------------\u001b[0m",
      "\u001b[1;31mModuleNotFoundError\u001b[0m                       Traceback (most recent call last)",
      "\u001b[1;32m~\\AppData\\Local\\Temp/ipykernel_13864/306587975.py\u001b[0m in \u001b[0;36m<module>\u001b[1;34m\u001b[0m\n\u001b[1;32m----> 1\u001b[1;33m \u001b[1;32mimport\u001b[0m \u001b[0mwords\u001b[0m\u001b[1;33m\u001b[0m\u001b[1;33m\u001b[0m\u001b[0m\n\u001b[0m\u001b[0;32m      2\u001b[0m \u001b[1;32mfrom\u001b[0m \u001b[0mwords\u001b[0m \u001b[1;32mimport\u001b[0m \u001b[0mwords\u001b[0m\u001b[1;33m\u001b[0m\u001b[1;33m\u001b[0m\u001b[0m\n\u001b[0;32m      3\u001b[0m \u001b[1;32mimport\u001b[0m \u001b[0mrandom\u001b[0m\u001b[1;33m\u001b[0m\u001b[1;33m\u001b[0m\u001b[0m\n\u001b[0;32m      4\u001b[0m \u001b[1;33m\u001b[0m\u001b[0m\n\u001b[0;32m      5\u001b[0m \u001b[1;33m\u001b[0m\u001b[0m\n",
      "\u001b[1;31mModuleNotFoundError\u001b[0m: No module named 'words'"
     ]
    }
   ],
   "source": [
    "import words\n",
    "from words import words\n",
    "import random\n",
    "\n",
    "\n",
    "def get_word():\n",
    "    word=random.choice(words) #get random word from saved list of words\n",
    "    while '_' or ' ' in word: #check if ther is any '_' or ' ' in the word\n",
    "        word=random.choice(words)\n",
    "        return word.upper() #returns uppercase word\n",
    "\n",
    "\n",
    "alphabet=set('abcdefghijklmnopqrstuvwxyz'.upper())\n",
    "word=get_word()    \n",
    "word_letters=set(word)\n",
    "used_letters=set()\n",
    "lives_left=6\n",
    "\n",
    "#as string is immutable need to work with something else like list or set\n",
    "while (len(word_letters) >= 0):\n",
    "    \n",
    "    \n",
    "    word_list=[letter if letter in used_letters else '_' for letter in word ] #very powerful sentence it gives letter in proper order\n",
    " \n",
    "    if '_' not in word_list:       #if game won then leave the loop\n",
    "        print('\\n*******You have won the game!!!!!!!!!!!*******')\n",
    "        break;\n",
    "\n",
    "    if lives_left==0:\n",
    "        if '_' in word_list:\n",
    "            print('\\n*********You have lost the game*********')\n",
    "            print('Word was:',word)\n",
    "            break;\n",
    "\n",
    "    print('\\nYou have {} lives left'.format(lives_left)) \n",
    "    print('You have used these letters: ',' '.join(used_letters))\n",
    "\n",
    "    print('Current Word: ',' '.join(word_list))#show the status\n",
    "\n",
    "    user_choice=set(input('Enter your guess: ').upper()) #get user input as string convert it to upper case then make a set out of it\n",
    "\n",
    "    for i in user_choice: #use the above set to itereate over the user choices and compare with the word_letter set\n",
    "        user_input=i\n",
    "        if user_input in (alphabet - used_letters) :\n",
    "            used_letters.add(user_input)\n",
    "            if user_input in word_letters:\n",
    "                word_letters.remove(user_input)\n",
    "\n",
    "        elif user_input in used_letters:\n",
    "            print('You have already used the letter. Please try different word.')\n",
    "\n",
    "\n",
    "        else:\n",
    "            print('INVALID CHARACTER')\n",
    "    \n",
    "\n",
    "    \n",
    "    lives_left -=1      #to check the number of lives left, if zero then exit the loop\n",
    "    \n",
    "\n",
    "    \n"
   ]
  },
  {
   "cell_type": "code",
   "execution_count": null,
   "id": "828be9a6",
   "metadata": {},
   "outputs": [],
   "source": []
  }
 ],
 "metadata": {
  "kernelspec": {
   "display_name": "Python 3 (ipykernel)",
   "language": "python",
   "name": "python3"
  },
  "language_info": {
   "codemirror_mode": {
    "name": "ipython",
    "version": 3
   },
   "file_extension": ".py",
   "mimetype": "text/x-python",
   "name": "python",
   "nbconvert_exporter": "python",
   "pygments_lexer": "ipython3",
   "version": "3.9.7"
  }
 },
 "nbformat": 4,
 "nbformat_minor": 5
}
